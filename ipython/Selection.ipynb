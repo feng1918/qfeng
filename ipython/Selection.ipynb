{
 "cells": [
  {
   "cell_type": "markdown",
   "metadata": {},
   "source": [
    "# 简单股票选择"
   ]
  },
  {
   "cell_type": "code",
   "execution_count": 20,
   "metadata": {},
   "outputs": [
    {
     "data": {
      "text/html": [
       "<div>\n",
       "<table border=\"1\" class=\"dataframe\">\n",
       "  <thead>\n",
       "    <tr style=\"text-align: right;\">\n",
       "      <th></th>\n",
       "      <th>date</th>\n",
       "      <th>open</th>\n",
       "      <th>close</th>\n",
       "      <th>high</th>\n",
       "      <th>low</th>\n",
       "      <th>volume</th>\n",
       "      <th>code</th>\n",
       "    </tr>\n",
       "  </thead>\n",
       "  <tbody>\n",
       "    <tr>\n",
       "      <th>3739</th>\n",
       "      <td>2017-06-21</td>\n",
       "      <td>37.82</td>\n",
       "      <td>37.49</td>\n",
       "      <td>38.01</td>\n",
       "      <td>37.05</td>\n",
       "      <td>26368.0</td>\n",
       "      <td>820.0</td>\n",
       "    </tr>\n",
       "    <tr>\n",
       "      <th>3740</th>\n",
       "      <td>2017-06-22</td>\n",
       "      <td>37.50</td>\n",
       "      <td>37.47</td>\n",
       "      <td>37.74</td>\n",
       "      <td>37.20</td>\n",
       "      <td>25927.0</td>\n",
       "      <td>820.0</td>\n",
       "    </tr>\n",
       "    <tr>\n",
       "      <th>3741</th>\n",
       "      <td>2017-06-23</td>\n",
       "      <td>37.30</td>\n",
       "      <td>37.90</td>\n",
       "      <td>37.92</td>\n",
       "      <td>36.93</td>\n",
       "      <td>30625.0</td>\n",
       "      <td>820.0</td>\n",
       "    </tr>\n",
       "    <tr>\n",
       "      <th>3742</th>\n",
       "      <td>2017-06-26</td>\n",
       "      <td>38.00</td>\n",
       "      <td>37.89</td>\n",
       "      <td>38.00</td>\n",
       "      <td>37.39</td>\n",
       "      <td>20491.0</td>\n",
       "      <td>820.0</td>\n",
       "    </tr>\n",
       "    <tr>\n",
       "      <th>3743</th>\n",
       "      <td>2017-06-27</td>\n",
       "      <td>38.76</td>\n",
       "      <td>38.64</td>\n",
       "      <td>39.73</td>\n",
       "      <td>38.10</td>\n",
       "      <td>34981.0</td>\n",
       "      <td>820.0</td>\n",
       "    </tr>\n",
       "  </tbody>\n",
       "</table>\n",
       "</div>"
      ],
      "text/plain": [
       "            date   open  close   high    low   volume   code\n",
       "3739  2017-06-21  37.82  37.49  38.01  37.05  26368.0  820.0\n",
       "3740  2017-06-22  37.50  37.47  37.74  37.20  25927.0  820.0\n",
       "3741  2017-06-23  37.30  37.90  37.92  36.93  30625.0  820.0\n",
       "3742  2017-06-26  38.00  37.89  38.00  37.39  20491.0  820.0\n",
       "3743  2017-06-27  38.76  38.64  39.73  38.10  34981.0  820.0"
      ]
     },
     "execution_count": 20,
     "metadata": {},
     "output_type": "execute_result"
    }
   ],
   "source": [
    "import sys\n",
    "sys.path.insert(0, '../qtrader/qtrader')\n",
    "\n",
    "import pandas as pd\n",
    "from AData import SHSZData, SHSZSelection\n",
    "\n",
    "DATA_FOLRDER = '../data/SHSZ'\n",
    "\n",
    "CODE='000820'\n",
    "\n",
    "manager = SHSZData(DATA_FOLRDER)\n",
    "df = manager.get_d(CODE)\n",
    "df[-30:].head()\n",
    "#selectionManager = SHSZSelection(DATA_FOLRDER, s1, ['600000', '600001'])"
   ]
  },
  {
   "cell_type": "code",
   "execution_count": 25,
   "metadata": {},
   "outputs": [
    {
     "data": {
      "text/html": [
       "<div>\n",
       "<table border=\"1\" class=\"dataframe\">\n",
       "  <thead>\n",
       "    <tr style=\"text-align: right;\">\n",
       "      <th></th>\n",
       "      <th>change</th>\n",
       "    </tr>\n",
       "  </thead>\n",
       "  <tbody>\n",
       "    <tr>\n",
       "      <th>000820</th>\n",
       "      <td>-64.177114</td>\n",
       "    </tr>\n",
       "  </tbody>\n",
       "</table>\n",
       "</div>"
      ],
      "text/plain": [
       "           change\n",
       "000820 -64.177114"
      ]
     },
     "execution_count": 25,
     "metadata": {},
     "output_type": "execute_result"
    }
   ],
   "source": [
    "def sel(code, df):\n",
    "    if df.shape[0] < 31:\n",
    "        return None\n",
    "    change = (df.iloc[-1]['close'] / df.iloc[-30]['close'] - 1) * 100\n",
    "    return pd.DataFrame({'change': change}, index=[code])\n",
    "\n",
    "c_df = sel('000820', df)\n",
    "c_df.head()"
   ]
  },
  {
   "cell_type": "code",
   "execution_count": 26,
   "metadata": {},
   "outputs": [],
   "source": [
    "select = SHSZSelection(DATA_FOLRDER, sel)\n",
    "x = select.run()"
   ]
  },
  {
   "cell_type": "code",
   "execution_count": 28,
   "metadata": {},
   "outputs": [
    {
     "data": {
      "text/html": [
       "<div>\n",
       "<table border=\"1\" class=\"dataframe\">\n",
       "  <thead>\n",
       "    <tr style=\"text-align: right;\">\n",
       "      <th></th>\n",
       "      <th>change</th>\n",
       "    </tr>\n",
       "  </thead>\n",
       "  <tbody>\n",
       "    <tr>\n",
       "      <th>600588</th>\n",
       "      <td>87.962963</td>\n",
       "    </tr>\n",
       "    <tr>\n",
       "      <th>002925</th>\n",
       "      <td>130.171614</td>\n",
       "    </tr>\n",
       "    <tr>\n",
       "      <th>603056</th>\n",
       "      <td>138.295788</td>\n",
       "    </tr>\n",
       "    <tr>\n",
       "      <th>300738</th>\n",
       "      <td>153.982609</td>\n",
       "    </tr>\n",
       "    <tr>\n",
       "      <th>300624</th>\n",
       "      <td>207.363602</td>\n",
       "    </tr>\n",
       "  </tbody>\n",
       "</table>\n",
       "</div>"
      ],
      "text/plain": [
       "            change\n",
       "600588   87.962963\n",
       "002925  130.171614\n",
       "603056  138.295788\n",
       "300738  153.982609\n",
       "300624  207.363602"
      ]
     },
     "execution_count": 28,
     "metadata": {},
     "output_type": "execute_result"
    }
   ],
   "source": [
    "x = x.sort_values(by='change')\n",
    "x.tail()"
   ]
  },
  {
   "cell_type": "code",
   "execution_count": null,
   "metadata": {},
   "outputs": [],
   "source": []
  }
 ],
 "metadata": {
  "kernelspec": {
   "display_name": "Python 3",
   "language": "python",
   "name": "python3"
  },
  "language_info": {
   "codemirror_mode": {
    "name": "ipython",
    "version": 3
   },
   "file_extension": ".py",
   "mimetype": "text/x-python",
   "name": "python",
   "nbconvert_exporter": "python",
   "pygments_lexer": "ipython3",
   "version": "3.6.3"
  }
 },
 "nbformat": 4,
 "nbformat_minor": 2
}
